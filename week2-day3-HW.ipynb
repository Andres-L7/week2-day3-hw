{
 "cells": [
  {
   "cell_type": "markdown",
   "metadata": {},
   "source": [
    "# Exercises"
   ]
  },
  {
   "cell_type": "markdown",
   "metadata": {},
   "source": [
    "### 1) Build a Shopping Cart <br>\n",
    "<p><b>You can use either lists or dictionaries. The program should have the following capabilities:</b><br><br>\n",
    "1) Takes in input <br>\n",
    "2) Stores user input into a dictionary or list <br>\n",
    "3) The User can add or delete items <br>\n",
    "4) The User can see current shopping list <br>\n",
    "5) The program Loops until user 'quits' <br>\n",
    "6) Upon quiting the program, print out all items in the user's list <br>\n",
    "</p>"
   ]
  },
  {
   "cell_type": "code",
   "execution_count": 1,
   "metadata": {},
   "outputs": [
    {
     "name": "stdout",
     "output_type": "stream",
     "text": [
      "['apple', 'grapes', 'banana']\n",
      "['apple', 'grapes', 'banana']\n",
      "['apple', 'grapes', 'banana']\n"
     ]
    }
   ],
   "source": [
    "from IPython.display import clear_output\n",
    "\n",
    "# Ask the user for four bits of input: Do you want to : Show/Add/Delete or Quit?\n",
    "def cart():                        \n",
    "    c_list = []        \n",
    "    \n",
    "    while True:     \n",
    "        answer = input('What do you want to do in your Shopping Cart?: Show/Add/Delete/Quit')           \n",
    "        clear_output()  \n",
    "        \n",
    "        if answer.lower() == 'show':\n",
    "            print(c_list)\n",
    "            \n",
    "        if answer.lower() == 'add':\n",
    "            item = c_list.append(input(\"What do you want to add? \"))\n",
    "            print(item, \"was successfully added to shopping cart.\")\n",
    "                \n",
    "                   \n",
    "        if answer.lower() == 'delete':\n",
    "            print(c_list)\n",
    "            out= c_list.remove(input(\"What do you want to delete?\" ))\n",
    "            print(out, \"was successully removed from your shopping cart.\")\n",
    "            \n",
    "            \n",
    "        if answer.lower() == 'quit':   \n",
    "            for item in c_list:                           \n",
    "                print(c_list)\n",
    "            break                               \n",
    "               \n",
    "        \n",
    "cart()   "
   ]
  },
  {
   "cell_type": "markdown",
   "metadata": {},
   "source": [
    "### 2) Create a Module in VS Code and Import It into jupyter notebook <br>\n",
    "<p><b>Module should have the following capabilities:</b><br><br>\n",
    "1) Has a function to calculate the square footage of a house <br>\n",
    "    <b>Reminder of Formula: Length X Width == Area<br>\n",
    "        <hr>\n",
    "2) Has a function to calculate the circumference of a circle <br><br>\n",
    "<b>Program in Jupyter Notebook should take in user input and use imported functions to calculate a circle's circumference or a houses square footage</b>\n",
    "</p>"
   ]
  },
  {
   "cell_type": "code",
   "execution_count": 2,
   "metadata": {},
   "outputs": [
    {
     "name": "stdout",
     "output_type": "stream",
     "text": [
      "Can you type in a radius:4\n",
      "Can you type in a length: 4\n",
      "Can you type in a width: 4\n",
      "16\n",
      "25.132741228718345\n"
     ]
    }
   ],
   "source": [
    "#to create a module, make sure it is name .py\n",
    "import math_ex_mod\n",
    "\n",
    "radius = int(input(\"Can you type in a radius:\" ))\n",
    "\n",
    "length = int(input(\"Can you type in a length: \"))\n",
    "width = int(input(\"Can you type in a width: \"))\n",
    "\n",
    "print(math_ex_mod.footage(length,width))\n",
    "print(math_ex_mod.circumference(radius))"
   ]
  }
 ],
 "metadata": {
  "kernelspec": {
   "display_name": "Python 3",
   "language": "python",
   "name": "python3"
  },
  "language_info": {
   "codemirror_mode": {
    "name": "ipython",
    "version": 3
   },
   "file_extension": ".py",
   "mimetype": "text/x-python",
   "name": "python",
   "nbconvert_exporter": "python",
   "pygments_lexer": "ipython3",
   "version": "3.8.5"
  }
 },
 "nbformat": 4,
 "nbformat_minor": 4
}
